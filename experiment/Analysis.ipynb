{
 "cells": [
  {
   "cell_type": "markdown",
   "metadata": {},
   "source": [
    "# Experiment analysis\n",
    "\n",
    "How people fake? For how long? How others succeed (or fail) to detect faked behaviour?"
   ]
  },
  {
   "cell_type": "code",
   "execution_count": 1,
   "metadata": {
    "collapsed": true
   },
   "outputs": [],
   "source": [
    "import collections\n",
    "import datetime\n",
    "import os\n",
    "\n",
    "import matplotlib.pyplot as plt\n",
    "import pandas as pd\n",
    "import seaborn as sns\n",
    "\n",
    "%matplotlib inline"
   ]
  },
  {
   "cell_type": "code",
   "execution_count": 2,
   "metadata": {},
   "outputs": [],
   "source": [
    "DATA_DIR = 'data'"
   ]
  },
  {
   "cell_type": "code",
   "execution_count": 3,
   "metadata": {
    "collapsed": true
   },
   "outputs": [],
   "source": [
    "def get_logs(data_dir):\n",
    "    \"\"\"\n",
    "    Read all log files from disk.\n",
    "    \"\"\"\n",
    "    logs = {}\n",
    "    for directory in os.listdir(data_dir):\n",
    "        session_path = os.path.join(data_dir, directory)\n",
    "        assert os.path.isdir(session_path), f'{session_path} is not a directory'\n",
    "        with open(os.path.join(session_path, 'experiment.log')) as f:\n",
    "            logs[directory] = f.read().splitlines()\n",
    "            \n",
    "    return logs"
   ]
  },
  {
   "cell_type": "code",
   "execution_count": 4,
   "metadata": {},
   "outputs": [],
   "source": [
    "class Event(collections.namedtuple('Event', ['session', 'timestamp', 'kind', 'data'])):\n",
    "\n",
    "        __slots__ = ()\n",
    "        \n",
    "        def __str__(self):\n",
    "            data_str = ' '.join(f'{key}={val}' for key, val in self.data.items())\n",
    "            return f'{self.timestamp.time()} [{self.session}] {self.kind}: {data_str}'\n",
    "\n",
    "\n",
    "def parse_player_event(url):\n",
    "    player, *raw_event = url[1:].split('/')\n",
    "    \n",
    "    data = {'player': int(player)}\n",
    "    \n",
    "    kind = raw_event[0].replace('-', '_')\n",
    "    \n",
    "    if kind == 'participant_id':\n",
    "        data['participant'] = int(raw_event[1])\n",
    "    elif kind in ['talking', 'autopilot']:\n",
    "        data['start'] = raw_event[1] == 'start'\n",
    "    elif kind == 'accuse':\n",
    "        data['accused_player'] = int(raw_event[1])\n",
    "        data['correct'] = raw_event[2] == 'correct'\n",
    "    elif kind == 'collect_token':\n",
    "        pass  # Nothing to do here\n",
    "    else:\n",
    "        raise AssertionError(f\"Event of kind {kind} was not expected\")\n",
    "\n",
    "    return kind, data\n",
    "\n",
    "\n",
    "def parse_log_line(session, line):\n",
    "    \"\"\"\n",
    "    Parse line to an Event.\n",
    "    \n",
    "    The log looks like this:\n",
    "    15:48:12.254 [info] GET /1/participant-id/1\n",
    "    15:48:21.245 [info] GET /1/talking/start\n",
    "    15:48:21.267 [info] GET /1/talking/stop\n",
    "    15:49:03.221 [info] GET /1/autopilot/start\n",
    "    17:29:51.849 [info] POST /scores/reset-hard\n",
    "    17:57:35.544 [info] POST /scores/reset-scores\n",
    "    ...\n",
    "    \"\"\"\n",
    "    timestamp, _, http_method, url = line.split()\n",
    "    timestamp = datetime.datetime.strptime(timestamp, '%H:%M:%S.%f')\n",
    "\n",
    "    if http_method == 'GET':\n",
    "        kind, data = parse_player_event(url)\n",
    "    elif http_method == 'POST':\n",
    "        kind = 'reset_scores'\n",
    "        data = {'hard': url.endswith('reset-hard')}\n",
    "    else:\n",
    "        raise AssertionError(f'{http_method} requests were not expected!')\n",
    "\n",
    "    return Event(session, timestamp, kind, data)"
   ]
  },
  {
   "cell_type": "code",
   "execution_count": 5,
   "metadata": {
    "collapsed": true
   },
   "outputs": [],
   "source": [
    "def to_fractional_seconds(timedelta):\n",
    "    return timedelta.seconds + timedelta.microseconds / 100_000"
   ]
  },
  {
   "cell_type": "code",
   "execution_count": 6,
   "metadata": {
    "collapsed": true
   },
   "outputs": [],
   "source": [
    "def add_participant_id(events):\n",
    "    \"\"\"\n",
    "    Run through the events and add participant ID with latest data from events of kind `participant-id`.\n",
    "    \"\"\"\n",
    "    player_id_to_participant_id = {}\n",
    "    for event in events:\n",
    "        if event.kind == 'participant_id':\n",
    "            player_id_to_participant_id[event.data['player']] = event.data['participant']\n",
    "        else:\n",
    "            for prefix in ['', 'accused_']:\n",
    "                player_key = prefix + 'player'\n",
    "                participant_key = prefix + 'participant'\n",
    "                if player_key in event.data:\n",
    "                    event.data[participant_key] = player_id_to_participant_id[event.data[player_key]]"
   ]
  },
  {
   "cell_type": "code",
   "execution_count": 7,
   "metadata": {},
   "outputs": [],
   "source": [
    "def add_accusation_time_from_autopilot(events):\n",
    "    \"\"\"\n",
    "    The time passed since the accused participant started to autopilot.\n",
    "    \"\"\"\n",
    "    player_id_to_start_autopilt = {}\n",
    "    for event in events:\n",
    "        if event.kind == 'autopilot' and event.data['start']:\n",
    "            player_id_to_start_autopilt[event.data['player']] = event.timestamp\n",
    "        if event.kind == 'accuse' and event.data['correct']:\n",
    "            start_autopilot = player_id_to_start_autopilt[event.data['accused_player']]\n",
    "            event.data['time_from_autopilot'] = to_fractional_seconds(event.timestamp - start_autopilot)"
   ]
  },
  {
   "cell_type": "code",
   "execution_count": 8,
   "metadata": {
    "collapsed": true
   },
   "outputs": [],
   "source": [
    "def add_time(events, kind):\n",
    "    player_id_to_start = {}\n",
    "    for event in events:\n",
    "        if event.kind == kind and event.data['start']:\n",
    "            player_id_to_start[event.data['player']] = event.timestamp\n",
    "        if event.kind == kind and not event.data['start']:\n",
    "            start_talking = player_id_to_start[event.data['player']]\n",
    "            event.data['time'] = to_fractional_seconds(event.timestamp - start_talking)"
   ]
  },
  {
   "cell_type": "code",
   "execution_count": 9,
   "metadata": {},
   "outputs": [],
   "source": [
    "def add_went_undetected(events):\n",
    "    autopiloting_and_wasnt_detected = set()  # A set of player IDs\n",
    "    for event in events:\n",
    "        if event.kind == 'autopilot':\n",
    "            if event.data['start']:\n",
    "                autopiloting_and_wasnt_detected.add(event.data['player'])\n",
    "            else:\n",
    "                event.data['went_undetected'] = event.data['player'] in autopiloting_and_wasnt_detected\n",
    "        elif event.kind == 'accuse' and event.data['correct']:\n",
    "             if event.data['accused_player'] in autopiloting_and_wasnt_detected:\n",
    "                    autopiloting_and_wasnt_detected.remove(event.data['accused_player'])"
   ]
  },
  {
   "cell_type": "code",
   "execution_count": 10,
   "metadata": {
    "collapsed": true
   },
   "outputs": [],
   "source": [
    "def process_logs_to_events(logs):\n",
    "    all_events = []\n",
    "    for session, log in logs.items():\n",
    "        events = [parse_log_line(session, line) for line in log]\n",
    "        add_participant_id(events)\n",
    "        add_accusation_time_from_autopilot(events)\n",
    "        add_went_undetected(events)\n",
    "        add_time(events, 'talking')\n",
    "        add_time(events, 'autopilot')\n",
    "        all_events += events\n",
    "    return all_events"
   ]
  },
  {
   "cell_type": "code",
   "execution_count": 11,
   "metadata": {},
   "outputs": [],
   "source": [
    "logs = get_logs(DATA_DIR)\n",
    "events = process_logs_to_events(logs)"
   ]
  },
  {
   "cell_type": "markdown",
   "metadata": {},
   "source": [
    "# Events analysis"
   ]
  },
  {
   "cell_type": "code",
   "execution_count": 12,
   "metadata": {
    "collapsed": true
   },
   "outputs": [],
   "source": [
    "def to_dataframe(events, filter_):\n",
    "    dicts = []\n",
    "    for event in events:\n",
    "        if (callable(filter_) and filter_(event)) or event.kind == filter_:\n",
    "            dicts.append({\n",
    "                'timestamp': event.timestamp,\n",
    "                'session': event.session,\n",
    "                **event.data\n",
    "            })\n",
    "    return pd.DataFrame(dicts).set_index('timestamp')"
   ]
  },
  {
   "cell_type": "markdown",
   "metadata": {},
   "source": [
    "## Accusations"
   ]
  },
  {
   "cell_type": "code",
   "execution_count": 13,
   "metadata": {},
   "outputs": [],
   "source": [
    "accusations = to_dataframe(events, 'accuse')"
   ]
  },
  {
   "cell_type": "code",
   "execution_count": 14,
   "metadata": {},
   "outputs": [
    {
     "name": "stdout",
     "output_type": "stream",
     "text": [
      "Time passed from autopilot start to accusation: mean 8.451407407407407, std 5.122929893233899\n"
     ]
    },
    {
     "data": {
      "image/png": "[encoded data removed]",
      "text/plain": [
       "<matplotlib.figure.Figure at 0x7f6014321630>"
      ]
     },
     "metadata": {},
     "output_type": "display_data"
    }
   ],
   "source": [
    "time_from_autopilot = accusations[accusations.correct].time_from_autopilot\n",
    "sns.distplot(time_from_autopilot);\n",
    "print(f'Time passed from autopilot start to accusation: mean {time_from_autopilot.mean()}, std {time_from_autopilot.std()}')"
   ]
  },
  {
   "cell_type": "code",
   "execution_count": 15,
   "metadata": {},
   "outputs": [
    {
     "name": "stdout",
     "output_type": "stream",
     "text": [
      "Ratio of correct accusations: 0.24545454545454545\n"
     ]
    }
   ],
   "source": [
    "print(f'Ratio of correct accusations: {accusations.correct.mean()}')"
   ]
  },
  {
   "cell_type": "markdown",
   "metadata": {},
   "source": [
    "## Autopiloting"
   ]
  },
  {
   "cell_type": "code",
   "execution_count": 16,
   "metadata": {},
   "outputs": [],
   "source": [
    "autopiloting = to_dataframe(events, filter_=lambda e: e.kind == 'autopilot' and not e.data['start'])"
   ]
  },
  {
   "cell_type": "code",
   "execution_count": 17,
   "metadata": {},
   "outputs": [
    {
     "data": {
      "image/png": "[encoded data removed]",
      "text/plain": [
       "<matplotlib.figure.Figure at 0x7f60118eba20>"
      ]
     },
     "metadata": {},
     "output_type": "display_data"
    }
   ],
   "source": [
    "sns.lmplot(x='time', y='went_undetected', data=autopiloting, logistic=True, y_jitter=.05);"
   ]
  },
  {
   "cell_type": "code",
   "execution_count": 18,
   "metadata": {},
   "outputs": [
    {
     "name": "stdout",
     "output_type": "stream",
     "text": [
      "Ratio of undetected autopiloting: 0.8759259259259259\n"
     ]
    }
   ],
   "source": [
    "print(f'Ratio of undetected autopiloting: {autopiloting.went_undetected.mean()}')"
   ]
  },
  {
   "cell_type": "markdown",
   "metadata": {},
   "source": [
    "## Next\n",
    "\n",
    "Compare how much players talk to how much the autopilt. Does faking affect their performance in the conversation?"
   ]
  }
 ],
 "metadata": {
  "kernelspec": {
   "display_name": "Python 3",
   "language": "python",
   "name": "python3"
  },
  "language_info": {
   "codemirror_mode": {
    "name": "ipython",
    "version": 3
   },
   "file_extension": ".py",
   "mimetype": "text/x-python",
   "name": "python",
   "nbconvert_exporter": "python",
   "pygments_lexer": "ipython3",
   "version": "3.6.2"
  }
 },
 "nbformat": 4,
 "nbformat_minor": 2
}
